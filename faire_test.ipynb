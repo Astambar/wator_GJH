{
 "cells": [
  {
   "cell_type": "code",
   "execution_count": 24,
   "metadata": {},
   "outputs": [],
   "source": [
    "import random\n",
    "from fish import Fish\n",
    "from shark import Shark\n",
    "from bassin import Grid\n",
    "\n",
    "COLONNE = 5\n",
    "LIGNE = 10\n",
    "# def generate_wator_table(col, row):\n",
    "#     table = []\n",
    "#     for i in range(col):\n",
    "#         table.append([0] * row)  # Utilisation de la multiplication pour créer des listes\n",
    "#     return table\n",
    "\n",
    "\n",
    "class World:\n",
    "\n",
    "    def __init__(self, nombre_de_poissons_initial, nombre_de_requins_initial, ligne = LIGNE, colonne = COLONNE):\n",
    "        self.ligne = colonne\n",
    "        self.colonne = ligne\n",
    "        self.grid = Grid(ligne,colonne)\n",
    "        self.list_fishes = []\n",
    "        self.list_sharks = []\n",
    "        self.nombre_de_requins_initial = nombre_de_requins_initial\n",
    "        self.nombre_de_poissons_initial = nombre_de_poissons_initial\n",
    "    \n",
    "\n",
    "    def placer_les_animaux_initialement(self):\n",
    "        while self.nombre_de_requins_initial > 0 or self.nombre_de_poissons_initial > 0:\n",
    "            choice_random = random.randint(1, 2)\n",
    "            generate_col = random.randint(0, self.colonne - 1)\n",
    "            generate_line = random.randint(0, self.ligne - 1)\n",
    "            if choice_random == 1 and self.nombre_de_poissons_initial > 0:\n",
    "                if self.grid.get_value((generate_line,generate_col)) == 0:\n",
    "                    self.nombre_de_poissons_initial -= 1\n",
    "                    new_fish = Fish((generate_line,generate_col))\n",
    "                    self.grid.set_value((generate_line,generate_col), new_fish)\n",
    "                    self.list_fishes.append(new_fish)\n",
    "                    \n",
    "            elif choice_random == 2 and self.nombre_de_requins_initial > 0:\n",
    "                if self.grid.get_value((generate_line,generate_col)) == 0:\n",
    "                    self.nombre_de_requins_initial -= 1\n",
    "                    new_shark = Shark((generate_line,generate_col))\n",
    "                    self.grid.set_value((generate_line,generate_col), new_shark)\n",
    "                    self.list_sharks.append(new_shark)\n",
    "\n",
    "    def scan_cases_autour(self, position:tuple):\n",
    "        scan_eau=[]\n",
    "        scan_shark=[]\n",
    "        scan_fish=[]\n",
    "        directions = [\n",
    "            [(position[0] - 1) % LIGNE, position[1]], # Haut\n",
    "            [(position[0] + 1) % LIGNE,position[1]], # Bas\n",
    "            [position[0],(position[1] - 1) % COLONNE], # Gauche\n",
    "            [position[0],(position[1] + 1) % COLONNE] # Droite\n",
    "        ]\n",
    "        for coord in directions:\n",
    "            if self.grid.get_value(coord) == 0:\n",
    "                scan_eau.append(coord)\n",
    "            elif isinstance(self.grid.get_value(coord), Shark):\n",
    "                scan_shark.append(coord)\n",
    "\n",
    "            elif isinstance(self.grid.get_value(coord), Fish):\n",
    "                scan_fish.append(coord)\n",
    "\n",
    "        return [scan_eau, scan_fish, scan_shark]\n",
    "\n",
    "    "
   ]
  },
  {
   "cell_type": "code",
   "execution_count": 25,
   "metadata": {},
   "outputs": [],
   "source": [
    "monde = World(5,2)"
   ]
  },
  {
   "cell_type": "code",
   "execution_count": 29,
   "metadata": {},
   "outputs": [
    {
     "name": "stdout",
     "output_type": "stream",
     "text": [
      "10\n",
      "5\n",
      "(0, 4)\n"
     ]
    },
    {
     "ename": "IndexError",
     "evalue": "list index out of range",
     "output_type": "error",
     "traceback": [
      "\u001b[0;31m---------------------------------------------------------------------------\u001b[0m",
      "\u001b[0;31mIndexError\u001b[0m                                Traceback (most recent call last)",
      "Cell \u001b[0;32mIn[29], line 7\u001b[0m\n\u001b[1;32m      5\u001b[0m pos_pichon \u001b[38;5;241m=\u001b[39m monde\u001b[38;5;241m.\u001b[39mlist_fishes[\u001b[38;5;241m0\u001b[39m]\u001b[38;5;241m.\u001b[39mget_position()\n\u001b[1;32m      6\u001b[0m \u001b[38;5;28mprint\u001b[39m(pos_pichon)\n\u001b[0;32m----> 7\u001b[0m \u001b[43mmonde\u001b[49m\u001b[38;5;241;43m.\u001b[39;49m\u001b[43mscan_cases_autour\u001b[49m\u001b[43m(\u001b[49m\u001b[43m(\u001b[49m\u001b[43mpos_pichon\u001b[49m\u001b[43m)\u001b[49m\u001b[43m)\u001b[49m\n",
      "Cell \u001b[0;32mIn[24], line 57\u001b[0m, in \u001b[0;36mWorld.scan_cases_autour\u001b[0;34m(self, position)\u001b[0m\n\u001b[1;32m     50\u001b[0m directions \u001b[38;5;241m=\u001b[39m [\n\u001b[1;32m     51\u001b[0m     [(position[\u001b[38;5;241m0\u001b[39m] \u001b[38;5;241m-\u001b[39m \u001b[38;5;241m1\u001b[39m) \u001b[38;5;241m%\u001b[39m LIGNE, position[\u001b[38;5;241m1\u001b[39m]], \u001b[38;5;66;03m# Haut\u001b[39;00m\n\u001b[1;32m     52\u001b[0m     [(position[\u001b[38;5;241m0\u001b[39m] \u001b[38;5;241m+\u001b[39m \u001b[38;5;241m1\u001b[39m) \u001b[38;5;241m%\u001b[39m LIGNE,position[\u001b[38;5;241m1\u001b[39m]], \u001b[38;5;66;03m# Bas\u001b[39;00m\n\u001b[1;32m     53\u001b[0m     [position[\u001b[38;5;241m0\u001b[39m],(position[\u001b[38;5;241m1\u001b[39m] \u001b[38;5;241m-\u001b[39m \u001b[38;5;241m1\u001b[39m) \u001b[38;5;241m%\u001b[39m COLONNE], \u001b[38;5;66;03m# Gauche\u001b[39;00m\n\u001b[1;32m     54\u001b[0m     [position[\u001b[38;5;241m0\u001b[39m],(position[\u001b[38;5;241m1\u001b[39m] \u001b[38;5;241m+\u001b[39m \u001b[38;5;241m1\u001b[39m) \u001b[38;5;241m%\u001b[39m COLONNE] \u001b[38;5;66;03m# Droite\u001b[39;00m\n\u001b[1;32m     55\u001b[0m ]\n\u001b[1;32m     56\u001b[0m \u001b[38;5;28;01mfor\u001b[39;00m coord \u001b[38;5;129;01min\u001b[39;00m directions:\n\u001b[0;32m---> 57\u001b[0m     \u001b[38;5;28;01mif\u001b[39;00m \u001b[38;5;28;43mself\u001b[39;49m\u001b[38;5;241;43m.\u001b[39;49m\u001b[43mgrid\u001b[49m\u001b[38;5;241;43m.\u001b[39;49m\u001b[43mget_value\u001b[49m\u001b[43m(\u001b[49m\u001b[43mcoord\u001b[49m\u001b[43m)\u001b[49m \u001b[38;5;241m==\u001b[39m \u001b[38;5;241m0\u001b[39m:\n\u001b[1;32m     58\u001b[0m         scan_eau\u001b[38;5;241m.\u001b[39mappend(coord)\n\u001b[1;32m     59\u001b[0m     \u001b[38;5;28;01melif\u001b[39;00m \u001b[38;5;28misinstance\u001b[39m(\u001b[38;5;28mself\u001b[39m\u001b[38;5;241m.\u001b[39mgrid\u001b[38;5;241m.\u001b[39mget_value(coord), Shark):\n",
      "File \u001b[0;32m~/Documents/Simplon/Wator/bassin.py:35\u001b[0m, in \u001b[0;36mGrid.get_value\u001b[0;34m(self, pos)\u001b[0m\n\u001b[1;32m     33\u001b[0m line \u001b[38;5;241m=\u001b[39m pos[\u001b[38;5;241m0\u001b[39m]\n\u001b[1;32m     34\u001b[0m col \u001b[38;5;241m=\u001b[39m pos[\u001b[38;5;241m1\u001b[39m]\n\u001b[0;32m---> 35\u001b[0m \u001b[38;5;28;01mreturn\u001b[39;00m \u001b[38;5;28;43mself\u001b[39;49m\u001b[38;5;241;43m.\u001b[39;49m\u001b[43mbassin\u001b[49m\u001b[43m[\u001b[49m\u001b[43mline\u001b[49m\u001b[43m]\u001b[49m[col]\n",
      "\u001b[0;31mIndexError\u001b[0m: list index out of range"
     ]
    }
   ],
   "source": [
    "# monde.placer_les_animaux_initialement()\n",
    "print(monde.colonne)\n",
    "print(monde.ligne)\n",
    "# monde.grid.print_grid()\n",
    "pos_pichon = monde.list_fishes[0].get_position()\n",
    "print(pos_pichon)\n",
    "monde.scan_cases_autour((pos_pichon))"
   ]
  },
  {
   "cell_type": "code",
   "execution_count": null,
   "metadata": {},
   "outputs": [
    {
     "ename": "AttributeError",
     "evalue": "'Grid' object has no attribute 'generate_alternative_grid'",
     "output_type": "error",
     "traceback": [
      "\u001b[0;31m---------------------------------------------------------------------------\u001b[0m",
      "\u001b[0;31mAttributeError\u001b[0m                            Traceback (most recent call last)",
      "Cell \u001b[0;32mIn[113], line 1\u001b[0m\n\u001b[0;32m----> 1\u001b[0m \u001b[43mmonde\u001b[49m\u001b[38;5;241;43m.\u001b[39;49m\u001b[43mgrid\u001b[49m\u001b[38;5;241;43m.\u001b[39;49m\u001b[43mgenerate_alternative_grid\u001b[49m()\n",
      "\u001b[0;31mAttributeError\u001b[0m: 'Grid' object has no attribute 'generate_alternative_grid'"
     ]
    }
   ],
   "source": []
  },
  {
   "cell_type": "code",
   "execution_count": 28,
   "metadata": {},
   "outputs": [
    {
     "name": "stdout",
     "output_type": "stream",
     "text": [
      "0 0 S 0 F 0 0 0 0 0 \n",
      "0 0 F 0 0 F 0 0 0 0 \n",
      "0 0 0 0 F 0 0 0 S 0 \n",
      "0 0 0 0 0 0 0 0 0 0 \n",
      "0 F 0 0 0 0 0 0 0 0 \n"
     ]
    }
   ],
   "source": [
    "for ligne in monde.grid.bassin:\n",
    "    \n",
    "    for colonne in ligne:\n",
    "        if isinstance(colonne, Shark):\n",
    "            print('S', end = ' ')\n",
    "        elif isinstance(colonne, Fish):\n",
    "            print('F', end = ' ')\n",
    "        else:\n",
    "            print(0, end = ' ')\n",
    "    print ('')"
   ]
  },
  {
   "cell_type": "code",
   "execution_count": null,
   "metadata": {},
   "outputs": [],
   "source": []
  }
 ],
 "metadata": {
  "kernelspec": {
   "display_name": ".venv",
   "language": "python",
   "name": "python3"
  },
  "language_info": {
   "codemirror_mode": {
    "name": "ipython",
    "version": 3
   },
   "file_extension": ".py",
   "mimetype": "text/x-python",
   "name": "python",
   "nbconvert_exporter": "python",
   "pygments_lexer": "ipython3",
   "version": "3.12.3"
  }
 },
 "nbformat": 4,
 "nbformat_minor": 2
}
