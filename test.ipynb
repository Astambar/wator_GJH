{
 "cells": [
  {
   "cell_type": "code",
   "execution_count": null,
   "metadata": {},
   "outputs": [],
   "source": [
    "class fish:\n",
    "    def __init__(self, id, position : list, chronon : int, vivant : bool, indice_reproduction : int):\n",
    "        self.id = id\n",
    "        self.position = position\n",
    "        self.chronon = chronon\n",
    "        self.vivant = vivant\n",
    "        self.indice_reproduction = indice_reproduction\n",
    "\n",
    "    def deplacement(self):\n",
    "        # juste pour l'idée ce n'est pas definitif !\n",
    "\n",
    "        haut = [i-1][j]\n",
    "        \n",
    "        bas = [i+1][j]\n",
    "        droite = [i][j+1]\n",
    "        gauche = [i][j-1]\n",
    "\n",
    "    def reprodution(self):\n",
    "\n",
    "        \n",
    "\n",
    "        pass"
   ]
  },
  {
   "cell_type": "code",
   "execution_count": 5,
   "metadata": {},
   "outputs": [
    {
     "name": "stdout",
     "output_type": "stream",
     "text": [
      "(1, 2)\n"
     ]
    }
   ],
   "source": [
    "from fish import Fish\n",
    "\n",
    "list_poisson = [Fish((1,2))]\n",
    "\n",
    "#list_poisson[0].get_position()\n",
    "\n",
    "print(list_poisson[0].get_position())"
   ]
  },
  {
   "cell_type": "code",
   "execution_count": 111,
   "metadata": {},
   "outputs": [
    {
     "data": {
      "text/plain": [
       "(1, 2)"
      ]
     },
     "execution_count": 112,
     "metadata": {},
     "output_type": "execute_result"
    }
   ],
   "source": [
    "class Fish:\n",
    "    def __init__(self, position : tuple, valeur_accouchement = 1, chronon = 0 ):\n",
    "        self.position = position\n",
    "        self.valeur_accouchement = valeur_accouchement\n",
    "        self.indice_reproduction = 0\n",
    "        self.chronon = chronon\n",
    "\n",
    "\n",
    "    def incrementation_chronon(self):\n",
    "        self.chronon += 1\n",
    "\n",
    "    def incrementation_indice_reproduction(self):\n",
    "        self.indice_reproduction += 1\n",
    "\n",
    "    def reset_indice_reproduction(self):\n",
    "        self.indice_reproduction = 0\n",
    "\n",
    "        def set_position(self, x,y):\n",
    "        self.position = (x,y)\n",
    "\n",
    "        def get_position(self):\n",
    "        return self.position\n",
    "\n",
    "\n",
    "\n",
    "\n",
    "        list_poisson = [Fish((1,2))]\n",
    "\n",
    "        list_poisson[0].get_position()"
   ]
  }
 ],
 "metadata": {
  "kernelspec": {
   "display_name": ".venv",
   "language": "python",
   "name": "python3"
  },
  "language_info": {
   "name": "python",
   "version": "3.12.3"
  }
 },
 "nbformat": 4,
 "nbformat_minor": 2
}
