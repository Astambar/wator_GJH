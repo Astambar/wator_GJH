{
 "cells": [
  {
   "cell_type": "code",
   "execution_count": null,
   "metadata": {},
   "outputs": [],
   "source": [
    "class fish:\n",
    "    def __init__(self, id, position : list, chronon : int, vivant : bool, indice_reproduction : int):\n",
    "        self.id = id\n",
    "        self.position = position\n",
    "        self.chronon = chronon\n",
    "        self.vivant = vivant\n",
    "        self.indice_reproduction = indice_reproduction\n",
    "\n",
    "    def deplacement(self):\n",
    "        # juste pour l'idée ce n'est pas definitif !\n",
    "\n",
    "        haut = [i-1][j]\n",
    "        \n",
    "        bas = [i+1][j]\n",
    "        droite = [i][j+1]\n",
    "        gauche = [i][j-1]\n",
    "\n",
    "    def reprodution(self):\n",
    "\n",
    "        \n",
    "\n",
    "        pass"
   ]
  }
 ],
 "metadata": {
  "kernelspec": {
   "display_name": ".venv",
   "language": "python",
   "name": "python3"
  },
  "language_info": {
   "name": "python",
   "version": "3.12.3"
  }
 },
 "nbformat": 4,
 "nbformat_minor": 2
}
